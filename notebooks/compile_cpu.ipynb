{
 "cells": [
  {
   "cell_type": "code",
   "execution_count": 1,
   "metadata": {},
   "outputs": [],
   "source": [
    "import time\n",
    "\n",
    "import openvino.torch  # noqa\n",
    "import torch\n",
    "import torchvision"
   ]
  },
  {
   "cell_type": "code",
   "execution_count": 2,
   "metadata": {},
   "outputs": [
    {
     "name": "stdout",
     "output_type": "stream",
     "text": [
      "1.1732056140899658\n"
     ]
    }
   ],
   "source": [
    "# ResNet50 の準備\n",
    "model = torchvision.models.resnet50()\n",
    "model.eval()\n",
    "\n",
    "# ダミー画像を用意\n",
    "input_image = torch.ones((32, 3, 224, 224))\n",
    "\n",
    "# ウォームアップのため一度走らせる\n",
    "with torch.no_grad():\n",
    "    output = model(input_image)\n",
    "\n",
    "# モデルの計算時間を計測（FP 32）\n",
    "start_time = time.time()\n",
    "with torch.no_grad():\n",
    "    output = model(input_image)\n",
    "end_time = time.time()\n",
    "\n",
    "computation_time = end_time - start_time\n",
    "print(computation_time)\n",
    "# -> Intel Core i7-12700 で 1.08 秒"
   ]
  },
  {
   "cell_type": "code",
   "execution_count": 3,
   "metadata": {},
   "outputs": [
    {
     "name": "stdout",
     "output_type": "stream",
     "text": [
      "0.3861653804779053\n"
     ]
    }
   ],
   "source": [
    "# モデルを torch.compile + openvino でコンパイル\n",
    "model_opt = torch.compile(model, backend=\"openvino\")\n",
    "\n",
    "with torch.no_grad():\n",
    "    for i in range(10):\n",
    "        output = model_opt(input_image)\n",
    "\n",
    "# モデルの計算時間を計測（torch.compie）\n",
    "start_time = time.time()\n",
    "with torch.no_grad():\n",
    "    output = model_opt(input_image)\n",
    "end_time = time.time()\n",
    "\n",
    "computation_time = end_time - start_time\n",
    "print(computation_time)\n",
    "# -> Intel Core i7-12700 で 0.36 秒"
   ]
  }
 ],
 "metadata": {
  "kernelspec": {
   "display_name": "Python 3 (ipykernel)",
   "language": "python",
   "name": "python3"
  },
  "language_info": {
   "codemirror_mode": {
    "name": "ipython",
    "version": 3
   },
   "file_extension": ".py",
   "mimetype": "text/x-python",
   "name": "python",
   "nbconvert_exporter": "python",
   "pygments_lexer": "ipython3",
   "version": "3.11.9"
  }
 },
 "nbformat": 4,
 "nbformat_minor": 4
}
