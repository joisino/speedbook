{
 "cells": [
  {
   "cell_type": "code",
   "execution_count": 1,
   "metadata": {},
   "outputs": [],
   "source": [
    "import torch"
   ]
  },
  {
   "cell_type": "code",
   "execution_count": 2,
   "metadata": {},
   "outputs": [
    {
     "name": "stdout",
     "output_type": "stream",
     "text": [
      "tensor([[0.1000, 0.3000, 0.6000],\n",
      "        [0.6000, 0.8000, 0.8000],\n",
      "        [0.1000, 0.3000, 0.6000]], size=(3, 3), dtype=torch.qint8,\n",
      "       quantization_scheme=torch.per_tensor_affine, scale=0.1, zero_point=0)\n"
     ]
    }
   ],
   "source": [
    "float_tensor = torch.FloatTensor([[0.12, 0.34, 0.55], [0.56, 0.78, 0.79], [0.12, 0.34, 0.55]])\n",
    "\n",
    "scale = 0.1\n",
    "zero_point = 0\n",
    "\n",
    "qint8_tensor = torch.quantize_per_tensor(float_tensor, scale, zero_point, dtype=torch.qint8)\n",
    "print(qint8_tensor)"
   ]
  }
 ],
 "metadata": {
  "kernelspec": {
   "display_name": "Python 3 (ipykernel)",
   "language": "python",
   "name": "python3"
  },
  "language_info": {
   "codemirror_mode": {
    "name": "ipython",
    "version": 3
   },
   "file_extension": ".py",
   "mimetype": "text/x-python",
   "name": "python",
   "nbconvert_exporter": "python",
   "pygments_lexer": "ipython3",
   "version": "3.11.9"
  }
 },
 "nbformat": 4,
 "nbformat_minor": 4
}
