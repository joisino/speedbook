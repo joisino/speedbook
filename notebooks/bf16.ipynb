{
 "cells": [
  {
   "cell_type": "code",
   "execution_count": 1,
   "metadata": {},
   "outputs": [],
   "source": [
    "import time\n",
    "\n",
    "import torch\n",
    "import torchvision"
   ]
  },
  {
   "cell_type": "code",
   "execution_count": 2,
   "metadata": {},
   "outputs": [
    {
     "name": "stdout",
     "output_type": "stream",
     "text": [
      "0.8454329967498779\n"
     ]
    }
   ],
   "source": [
    "# ResNet50 の準備\n",
    "model = torchvision.models.resnet50()\n",
    "model = model.to(\"cuda\")\n",
    "model.eval()\n",
    "\n",
    "# ダミー画像を用意\n",
    "input_image = torch.ones((512, 3, 224, 224))\n",
    "input_image = input_image.to(\"cuda\")\n",
    "\n",
    "# ウォームアップのため一度走らせる\n",
    "with torch.no_grad():\n",
    "    output = model(input_image)\n",
    "\n",
    "# モデルの計算時間を計測（FP 32）\n",
    "torch.cuda.synchronize()\n",
    "start_time = time.time()\n",
    "with torch.no_grad():\n",
    "    output = model(input_image)\n",
    "torch.cuda.synchronize()\n",
    "end_time = time.time()\n",
    "\n",
    "computation_time = end_time - start_time\n",
    "print(computation_time)\n",
    "# -> RTX 3060 GPU で 0.85 秒"
   ]
  },
  {
   "cell_type": "code",
   "execution_count": 3,
   "metadata": {},
   "outputs": [
    {
     "name": "stdout",
     "output_type": "stream",
     "text": [
      "0.4676995277404785\n"
     ]
    }
   ],
   "source": [
    "# BF 16 に変換\n",
    "model = model.bfloat16()\n",
    "input_image = input_image.bfloat16()\n",
    "\n",
    "with torch.no_grad():\n",
    "    output = model(input_image)\n",
    "\n",
    "# モデルの計算時間を計測（BF 16）\n",
    "torch.cuda.synchronize()\n",
    "start_time = time.time()\n",
    "with torch.no_grad():\n",
    "    output = model(input_image)\n",
    "torch.cuda.synchronize()\n",
    "end_time = time.time()\n",
    "\n",
    "computation_time = end_time - start_time\n",
    "print(computation_time)\n",
    "# -> RTX 3060 GPU で 0.47 秒"
   ]
  }
 ],
 "metadata": {
  "kernelspec": {
   "display_name": "Python 3 (ipykernel)",
   "language": "python",
   "name": "python3"
  },
  "language_info": {
   "codemirror_mode": {
    "name": "ipython",
    "version": 3
   },
   "file_extension": ".py",
   "mimetype": "text/x-python",
   "name": "python",
   "nbconvert_exporter": "python",
   "pygments_lexer": "ipython3",
   "version": "3.11.9"
  }
 },
 "nbformat": 4,
 "nbformat_minor": 4
}
