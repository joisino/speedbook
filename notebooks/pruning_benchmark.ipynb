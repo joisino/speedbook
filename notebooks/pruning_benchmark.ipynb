{
 "cells": [
  {
   "cell_type": "code",
   "execution_count": 1,
   "metadata": {},
   "outputs": [],
   "source": [
    "from deepsparse.benchmark.benchmark_model import benchmark_model"
   ]
  },
  {
   "cell_type": "code",
   "execution_count": 2,
   "metadata": {},
   "outputs": [
    {
     "name": "stderr",
     "output_type": "stream",
     "text": [
      "2024-08-17 08:46:57 deepsparse.benchmark.helpers INFO     Thread pinning to cores enabled\n",
      "DeepSparse, Copyright 2021-present / Neuralmagic, Inc. version: 1.7.1 COMMUNITY | (3904e8ec) (release) (optimized) (system=avx2_vnni, binary=avx2)\n",
      "2024-08-17 08:46:58 deepsparse.benchmark.benchmark_model INFO     deepsparse.engine.Engine:\n",
      "\tonnx_file_path: resnet50_dense.onnx\n",
      "\tbatch_size: 32\n",
      "\tnum_cores: 8\n",
      "\tnum_streams: 1\n",
      "\tscheduler: Scheduler.default\n",
      "\tfraction_of_supported_ops: 1.0\n",
      "\tcpu_avx_type: avx2\n",
      "\tcpu_vnni: True\n",
      "2024-08-17 08:46:58 deepsparse.utils.onnx INFO     Generating input 'input', type = float32, shape = [32, 3, 224, 224]\n",
      "2024-08-17 08:46:58 deepsparse.benchmark.benchmark_model INFO     Starting 'singlestream' performance measurements for 10 seconds\n",
      "2024-08-17 08:47:10 deepsparse.benchmark.helpers INFO     Thread pinning to cores enabled\n"
     ]
    },
    {
     "name": "stdout",
     "output_type": "stream",
     "text": [
      "{'engine': 'deepsparse.engine.Engine:\\n\\tonnx_file_path: resnet50_dense.onnx\\n\\tbatch_size: 32\\n\\tnum_cores: 8\\n\\tnum_streams: 1\\n\\tscheduler: Scheduler.default\\n\\tfraction_of_supported_ops: 1.0\\n\\tcpu_avx_type: avx2\\n\\tcpu_vnni: True', 'version': '1.7.1', 'orig_model_path': 'resnet50_dense.onnx', 'model_path': 'resnet50_dense.onnx', 'batch_size': 32, 'input_shapes': None, 'num_cores': 8, 'scenario': 'singlestream', 'scheduler': 'Scheduler.default', 'seconds_to_run': 10, 'num_streams': 1, 'benchmark_result': {'scenario': 'singlestream', 'items_per_sec': 104.94303276121747, 'seconds_ran': 10.062602273013908, 'iterations': 33, 'median': 307.0415160036646, 'mean': 304.9120608131599, 'std': 8.150977865726787, '25.0%': 298.7260120571591, '50.0%': 307.0415160036646, '75.0%': 311.6000279551372, '90.0%': 313.46017479663715, '95.0%': 314.27123779430985, '99.0%': 316.3048456585966, '99.9%': 316.82811950845644}, 'fraction_of_supported_ops': 1.0}\n"
     ]
    },
    {
     "name": "stderr",
     "output_type": "stream",
     "text": [
      "2024-08-17 08:47:11 deepsparse.benchmark.benchmark_model INFO     deepsparse.engine.Engine:\n",
      "\tonnx_file_path: resnet50_sparse.onnx\n",
      "\tbatch_size: 32\n",
      "\tnum_cores: 8\n",
      "\tnum_streams: 1\n",
      "\tscheduler: Scheduler.default\n",
      "\tfraction_of_supported_ops: 1.0\n",
      "\tcpu_avx_type: avx2\n",
      "\tcpu_vnni: True\n",
      "2024-08-17 08:47:11 deepsparse.utils.onnx INFO     Generating input 'input', type = float32, shape = [32, 3, 224, 224]\n",
      "2024-08-17 08:47:11 deepsparse.benchmark.benchmark_model INFO     Starting 'singlestream' performance measurements for 10 seconds\n"
     ]
    },
    {
     "name": "stdout",
     "output_type": "stream",
     "text": [
      "{'engine': 'deepsparse.engine.Engine:\\n\\tonnx_file_path: resnet50_sparse.onnx\\n\\tbatch_size: 32\\n\\tnum_cores: 8\\n\\tnum_streams: 1\\n\\tscheduler: Scheduler.default\\n\\tfraction_of_supported_ops: 1.0\\n\\tcpu_avx_type: avx2\\n\\tcpu_vnni: True', 'version': '1.7.1', 'orig_model_path': 'resnet50_sparse.onnx', 'model_path': 'resnet50_sparse.onnx', 'batch_size': 32, 'input_shapes': None, 'num_cores': 8, 'scenario': 'singlestream', 'scheduler': 'Scheduler.default', 'seconds_to_run': 10, 'num_streams': 1, 'benchmark_result': {'scenario': 'singlestream', 'items_per_sec': 200.84537520098976, 'seconds_ran': 10.037572425964754, 'iterations': 63, 'median': 139.97648196527734, 'mean': 159.30817087849837, 'std': 30.741333628830116, '25.0%': 135.49254351528361, '50.0%': 139.97648196527734, '75.0%': 204.39704350428656, '90.0%': 205.80778217408806, '95.0%': 206.36305453372188, '99.0%': 209.15727655403316, '99.9%': 209.17639472801238}, 'fraction_of_supported_ops': 1.0}\n"
     ]
    }
   ],
   "source": [
    "print(benchmark_model(\"resnet50_dense.onnx\", batch_size=32))\n",
    "# Intel Core i7-12700 で 0.316 秒\n",
    "\n",
    "print(benchmark_model(\"resnet50_sparse.onnx\", batch_size=32))\n",
    "# Intel Core i7-12700 で 0.146 秒"
   ]
  }
 ],
 "metadata": {
  "kernelspec": {
   "display_name": "Python 3 (ipykernel)",
   "language": "python",
   "name": "python3"
  },
  "language_info": {
   "codemirror_mode": {
    "name": "ipython",
    "version": 3
   },
   "file_extension": ".py",
   "mimetype": "text/x-python",
   "name": "python",
   "nbconvert_exporter": "python",
   "pygments_lexer": "ipython3",
   "version": "3.11.9"
  }
 },
 "nbformat": 4,
 "nbformat_minor": 4
}
