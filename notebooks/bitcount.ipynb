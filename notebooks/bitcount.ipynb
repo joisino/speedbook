{
 "cells": [
  {
   "cell_type": "code",
   "execution_count": 1,
   "id": "3707e761-7407-4e16-acbe-b10424f8e8e7",
   "metadata": {},
   "outputs": [],
   "source": [
    "def bitcount(x):\n",
    "    x = (x & 0x5555555555555555) + ((x >> 1) & 0x5555555555555555)\n",
    "    x = (x & 0x3333333333333333) + ((x >> 2) & 0x3333333333333333)\n",
    "    x = (x & 0x0f0f0f0f0f0f0f0f) + ((x >> 4) & 0x0f0f0f0f0f0f0f0f)\n",
    "    x = (x & 0x00ff00ff00ff00ff) + ((x >> 8) & 0x00ff00ff00ff00ff)\n",
    "    x = (x & 0x0000ffff0000ffff) + ((x >> 16) & 0x0000ffff0000ffff)\n",
    "    x = (x & 0x00000000ffffffff) + ((x >> 32) & 0x00000000ffffffff)\n",
    "    return x"
   ]
  },
  {
   "cell_type": "code",
   "execution_count": 2,
   "id": "ba78af5b-1f5c-4222-8862-308dd3bd7d4b",
   "metadata": {},
   "outputs": [],
   "source": [
    "def bitcount2(x):\n",
    "    x -= (x >> 1) & 0x5555555555555555;\n",
    "    x = (x & 0x3333333333333333) + ((x >> 2) & 0x3333333333333333);\n",
    "    x = (x + (x >> 4)) & 0x0f0f0f0f0f0f0f0f;\n",
    "    return ((x * 0x0101010101010101) >> 56) & 0xff;"
   ]
  },
  {
   "cell_type": "code",
   "execution_count": 3,
   "id": "6d6f8db4-d79a-4c44-b516-bcf049aeb16a",
   "metadata": {},
   "outputs": [],
   "source": [
    "a = 8324"
   ]
  },
  {
   "cell_type": "code",
   "execution_count": 4,
   "id": "84f4233a-ed26-4fba-9ac5-7baadc175b91",
   "metadata": {},
   "outputs": [
    {
     "name": "stdout",
     "output_type": "stream",
     "text": [
      "0b10000010000100\n"
     ]
    }
   ],
   "source": [
    "print(bin(a)) # 二進表示"
   ]
  },
  {
   "cell_type": "code",
   "execution_count": 5,
   "id": "9d894f23-f772-43fe-9a62-623e2f8e78fe",
   "metadata": {},
   "outputs": [
    {
     "name": "stdout",
     "output_type": "stream",
     "text": [
      "3\n"
     ]
    }
   ],
   "source": [
    "print(bitcount(a))"
   ]
  },
  {
   "cell_type": "code",
   "execution_count": 6,
   "id": "516af8dc-2153-4400-a595-3cbe0b1fa132",
   "metadata": {},
   "outputs": [
    {
     "name": "stdout",
     "output_type": "stream",
     "text": [
      "3\n"
     ]
    }
   ],
   "source": [
    "print(bitcount2(a))"
   ]
  },
  {
   "cell_type": "code",
   "execution_count": 7,
   "id": "ec3084e0-58e3-4040-80bf-0e0fb7951507",
   "metadata": {},
   "outputs": [
    {
     "data": {
      "text/plain": [
       "3"
      ]
     },
     "execution_count": 7,
     "metadata": {},
     "output_type": "execute_result"
    }
   ],
   "source": [
    "a.bit_count()"
   ]
  }
 ],
 "metadata": {
  "kernelspec": {
   "display_name": "Python 3 (ipykernel)",
   "language": "python",
   "name": "python3"
  },
  "language_info": {
   "codemirror_mode": {
    "name": "ipython",
    "version": 3
   },
   "file_extension": ".py",
   "mimetype": "text/x-python",
   "name": "python",
   "nbconvert_exporter": "python",
   "pygments_lexer": "ipython3",
   "version": "3.11.9"
  }
 },
 "nbformat": 4,
 "nbformat_minor": 5
}
