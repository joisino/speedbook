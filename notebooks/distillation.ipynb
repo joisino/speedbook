{
 "cells": [
  {
   "cell_type": "code",
   "execution_count": 1,
   "metadata": {},
   "outputs": [],
   "source": [
    "import torch\n",
    "import torch.nn as nn\n",
    "import torch.nn.functional as F\n",
    "import torch.optim as optim\n",
    "import torchvision\n",
    "import torchvision.transforms as transforms\n",
    "from eval_cifar10 import Eval\n",
    "from models import resnet18, resnext101_64x4d"
   ]
  },
  {
   "cell_type": "code",
   "execution_count": 2,
   "metadata": {},
   "outputs": [
    {
     "name": "stdout",
     "output_type": "stream",
     "text": [
      "Files already downloaded and verified\n",
      "Files already downloaded and verified\n"
     ]
    }
   ],
   "source": [
    "transform_train = transforms.Compose(\n",
    "    [\n",
    "        transforms.RandomCrop(32, padding=4),\n",
    "        transforms.RandomHorizontalFlip(),\n",
    "        transforms.ToTensor(),\n",
    "        transforms.Normalize((0.4914, 0.4822, 0.4465), (0.2023, 0.1994, 0.2010)),\n",
    "    ]\n",
    ")\n",
    "\n",
    "batch_size = 256\n",
    "\n",
    "trainset = torchvision.datasets.CIFAR10(root=\"./data\", train=True, download=True, transform=transform_train)\n",
    "trainloader = torch.utils.data.DataLoader(trainset, batch_size=batch_size, shuffle=True)\n",
    "\n",
    "evaluator = Eval(batch_size=batch_size)\n",
    "\n",
    "device = \"cuda:0\" if torch.cuda.is_available() else \"cpu\""
   ]
  },
  {
   "cell_type": "code",
   "execution_count": 3,
   "metadata": {},
   "outputs": [
    {
     "data": {
      "text/plain": [
       "0.9295"
      ]
     },
     "execution_count": 3,
     "metadata": {},
     "output_type": "execute_result"
    }
   ],
   "source": [
    "model = resnet18(pretrained=True, download=True) # 訓練済み\n",
    "model.to(device)\n",
    "model.eval()\n",
    "evaluator.eval(model, device)\n",
    "# 普通に訓練した ResNet18: CIFAR-10 精度 92.95 %"
   ]
  },
  {
   "cell_type": "code",
   "execution_count": 4,
   "metadata": {},
   "outputs": [
    {
     "name": "stdout",
     "output_type": "stream",
     "text": [
      "Warning: pretrained=False and download=True. Setting download=False.\n"
     ]
    },
    {
     "data": {
      "text/plain": [
       "0.0995"
      ]
     },
     "execution_count": 4,
     "metadata": {},
     "output_type": "execute_result"
    }
   ],
   "source": [
    "model = resnet18(pretrained=False) # 生徒モデル\n",
    "model.to(device)\n",
    "evaluator.eval(model, device)\n",
    "# 訓練前の ResNet18: CIFAR-10 精度 10.00 %"
   ]
  },
  {
   "cell_type": "code",
   "execution_count": 5,
   "metadata": {},
   "outputs": [
    {
     "data": {
      "text/plain": [
       "0.9407"
      ]
     },
     "execution_count": 5,
     "metadata": {},
     "output_type": "execute_result"
    }
   ],
   "source": [
    "teacher = resnext101_64x4d(pretrained=True, download=True) # 教師モデル\n",
    "teacher.to(device)\n",
    "teacher.eval()\n",
    "evaluator.eval(teacher, device)\n",
    "# 普通に訓練した ResNext101: CIFAR-10 精度 94.07 %"
   ]
  },
  {
   "cell_type": "code",
   "execution_count": 6,
   "metadata": {},
   "outputs": [],
   "source": [
    "criterion = nn.CrossEntropyLoss()\n",
    "optimizer = optim.SGD(model.parameters(), lr=0.01, momentum=0.9, weight_decay=0.01, nesterov=True)\n",
    "\n",
    "epoch = 100\n",
    "temperature = 10\n",
    "lam = 0.5\n",
    "\n",
    "lr_scheduler = torch.optim.lr_scheduler.CosineAnnealingLR(optimizer, T_max=epoch)"
   ]
  },
  {
   "cell_type": "code",
   "execution_count": 7,
   "metadata": {},
   "outputs": [
    {
     "name": "stdout",
     "output_type": "stream",
     "text": [
      "Epoch 1, Accuracy: 0.4753\n",
      "Epoch 2, Accuracy: 0.5243\n",
      "Epoch 3, Accuracy: 0.5632\n",
      "Epoch 4, Accuracy: 0.6425\n",
      "Epoch 5, Accuracy: 0.5799\n",
      "Epoch 6, Accuracy: 0.6533\n",
      "Epoch 7, Accuracy: 0.6964\n",
      "Epoch 8, Accuracy: 0.6564\n",
      "Epoch 9, Accuracy: 0.7242\n",
      "Epoch 10, Accuracy: 0.726\n",
      "Epoch 11, Accuracy: 0.7303\n",
      "Epoch 12, Accuracy: 0.7408\n",
      "Epoch 13, Accuracy: 0.7638\n",
      "Epoch 14, Accuracy: 0.7352\n",
      "Epoch 15, Accuracy: 0.7609\n",
      "Epoch 16, Accuracy: 0.7016\n",
      "Epoch 17, Accuracy: 0.6797\n",
      "Epoch 18, Accuracy: 0.7139\n",
      "Epoch 19, Accuracy: 0.7851\n",
      "Epoch 20, Accuracy: 0.7824\n",
      "Epoch 21, Accuracy: 0.7633\n",
      "Epoch 22, Accuracy: 0.8087\n",
      "Epoch 23, Accuracy: 0.7532\n",
      "Epoch 24, Accuracy: 0.7615\n",
      "Epoch 25, Accuracy: 0.7531\n",
      "Epoch 26, Accuracy: 0.7296\n",
      "Epoch 27, Accuracy: 0.7637\n",
      "Epoch 28, Accuracy: 0.7652\n",
      "Epoch 29, Accuracy: 0.7106\n",
      "Epoch 30, Accuracy: 0.7749\n",
      "Epoch 31, Accuracy: 0.8152\n",
      "Epoch 32, Accuracy: 0.7893\n",
      "Epoch 33, Accuracy: 0.7773\n",
      "Epoch 34, Accuracy: 0.7849\n",
      "Epoch 35, Accuracy: 0.7568\n",
      "Epoch 36, Accuracy: 0.7988\n",
      "Epoch 37, Accuracy: 0.8108\n",
      "Epoch 38, Accuracy: 0.7836\n",
      "Epoch 39, Accuracy: 0.8097\n",
      "Epoch 40, Accuracy: 0.8098\n",
      "Epoch 41, Accuracy: 0.812\n",
      "Epoch 42, Accuracy: 0.7943\n",
      "Epoch 43, Accuracy: 0.8303\n",
      "Epoch 44, Accuracy: 0.8231\n",
      "Epoch 45, Accuracy: 0.8275\n",
      "Epoch 46, Accuracy: 0.796\n",
      "Epoch 47, Accuracy: 0.8285\n",
      "Epoch 48, Accuracy: 0.8371\n",
      "Epoch 49, Accuracy: 0.8336\n",
      "Epoch 50, Accuracy: 0.8249\n",
      "Epoch 51, Accuracy: 0.8372\n",
      "Epoch 52, Accuracy: 0.8203\n",
      "Epoch 53, Accuracy: 0.8331\n",
      "Epoch 54, Accuracy: 0.7833\n",
      "Epoch 55, Accuracy: 0.8527\n",
      "Epoch 56, Accuracy: 0.8483\n",
      "Epoch 57, Accuracy: 0.8648\n",
      "Epoch 58, Accuracy: 0.8402\n",
      "Epoch 59, Accuracy: 0.8564\n",
      "Epoch 60, Accuracy: 0.8558\n",
      "Epoch 61, Accuracy: 0.8672\n",
      "Epoch 62, Accuracy: 0.8746\n",
      "Epoch 63, Accuracy: 0.8714\n",
      "Epoch 64, Accuracy: 0.8727\n",
      "Epoch 65, Accuracy: 0.8542\n",
      "Epoch 66, Accuracy: 0.877\n",
      "Epoch 67, Accuracy: 0.8733\n",
      "Epoch 68, Accuracy: 0.8559\n",
      "Epoch 69, Accuracy: 0.8753\n",
      "Epoch 70, Accuracy: 0.8808\n",
      "Epoch 71, Accuracy: 0.8905\n",
      "Epoch 72, Accuracy: 0.8911\n",
      "Epoch 73, Accuracy: 0.8923\n",
      "Epoch 74, Accuracy: 0.874\n",
      "Epoch 75, Accuracy: 0.8961\n",
      "Epoch 76, Accuracy: 0.8926\n",
      "Epoch 77, Accuracy: 0.8941\n",
      "Epoch 78, Accuracy: 0.8906\n",
      "Epoch 79, Accuracy: 0.9057\n",
      "Epoch 80, Accuracy: 0.9114\n",
      "Epoch 81, Accuracy: 0.9131\n",
      "Epoch 82, Accuracy: 0.9132\n",
      "Epoch 83, Accuracy: 0.9113\n",
      "Epoch 84, Accuracy: 0.9186\n",
      "Epoch 85, Accuracy: 0.9179\n",
      "Epoch 86, Accuracy: 0.924\n",
      "Epoch 87, Accuracy: 0.9253\n",
      "Epoch 88, Accuracy: 0.9277\n",
      "Epoch 89, Accuracy: 0.9247\n",
      "Epoch 90, Accuracy: 0.9273\n",
      "Epoch 91, Accuracy: 0.9291\n",
      "Epoch 92, Accuracy: 0.9304\n",
      "Epoch 93, Accuracy: 0.931\n",
      "Epoch 94, Accuracy: 0.9294\n",
      "Epoch 95, Accuracy: 0.9304\n",
      "Epoch 96, Accuracy: 0.9316\n",
      "Epoch 97, Accuracy: 0.932\n",
      "Epoch 98, Accuracy: 0.9313\n",
      "Epoch 99, Accuracy: 0.9316\n",
      "Epoch 100, Accuracy: 0.932\n"
     ]
    }
   ],
   "source": [
    "for epoch in range(epoch):\n",
    "    model.train()\n",
    "    for inputs, labels in trainloader:\n",
    "        inputs, labels = inputs.to(device), labels.to(device)\n",
    "\n",
    "        optimizer.zero_grad()\n",
    "\n",
    "        outputs = model(inputs)\n",
    "        loss = criterion(outputs, labels)\n",
    "\n",
    "        with torch.no_grad():\n",
    "            outputs_teacher = teacher(inputs).detach()\n",
    "\n",
    "        loss_distill = (\n",
    "            F.kl_div(\n",
    "                F.log_softmax(outputs / temperature, dim=1),\n",
    "                F.softmax(outputs_teacher / temperature, dim=1),\n",
    "                reduction=\"batchmean\",\n",
    "            )\n",
    "            * temperature\n",
    "            * temperature\n",
    "        )\n",
    "\n",
    "        loss = (1 - lam) * loss + lam * loss_distill\n",
    "\n",
    "        loss.backward()\n",
    "        optimizer.step()\n",
    "\n",
    "    lr_scheduler.step()\n",
    "\n",
    "    acc = evaluator.eval(model, device)\n",
    "\n",
    "    print(f\"Epoch {epoch + 1}, Accuracy: {acc}\")"
   ]
  },
  {
   "cell_type": "code",
   "execution_count": 8,
   "metadata": {},
   "outputs": [
    {
     "data": {
      "text/plain": [
       "0.932"
      ]
     },
     "execution_count": 8,
     "metadata": {},
     "output_type": "execute_result"
    }
   ],
   "source": [
    "evaluator.eval(model, device)\n",
    "# ResNext101 から蒸留した ResNet18: CIFAR-10 精度 93.32 %"
   ]
  },
  {
   "cell_type": "code",
   "execution_count": 9,
   "metadata": {},
   "outputs": [],
   "source": [
    "torch.save(model.state_dict(), \"resnet18_cifar10_distil_from_resnext101.pth\")"
   ]
  }
 ],
 "metadata": {
  "kernelspec": {
   "display_name": "Python 3 (ipykernel)",
   "language": "python",
   "name": "python3"
  },
  "language_info": {
   "codemirror_mode": {
    "name": "ipython",
    "version": 3
   },
   "file_extension": ".py",
   "mimetype": "text/x-python",
   "name": "python",
   "nbconvert_exporter": "python",
   "pygments_lexer": "ipython3",
   "version": "3.11.9"
  }
 },
 "nbformat": 4,
 "nbformat_minor": 4
}
