{
 "cells": [
  {
   "cell_type": "code",
   "execution_count": 1,
   "metadata": {},
   "outputs": [],
   "source": [
    "import time\n",
    "\n",
    "import torch\n",
    "import torch.nn as nn\n",
    "import torch.utils.data\n",
    "from eval_cifar10 import Eval\n",
    "from models import resnet50"
   ]
  },
  {
   "cell_type": "code",
   "execution_count": 2,
   "metadata": {},
   "outputs": [
    {
     "name": "stdout",
     "output_type": "stream",
     "text": [
      "Files already downloaded and verified\n",
      "0.9358\n",
      "26.5885066986084\n"
     ]
    }
   ],
   "source": [
    "evaluator = Eval(batch_size=32)\n",
    "\n",
    "model = resnet50(pretrained=True)\n",
    "model.eval()\n",
    "\n",
    "# 通常のモデル\n",
    "start = time.time()\n",
    "print(evaluator.eval(model, torch.device(\"cpu\")))\n",
    "# CIFAR-10 精度 93.58 %\n",
    "print(time.time() - start)\n",
    "# Intel Core i7-12700 で 27.6 秒"
   ]
  },
  {
   "cell_type": "code",
   "execution_count": 3,
   "metadata": {},
   "outputs": [],
   "source": [
    "def low_rank_recursively(module, rank=32):\n",
    "    for name, child in module.named_children():\n",
    "        if isinstance(child, nn.Conv2d):\n",
    "            kernel_size = child.kernel_size\n",
    "            in_channels = child.in_channels\n",
    "            out_channels = child.out_channels\n",
    "            has_bias = child.bias is not None\n",
    "            W = child.weight.permute(0, 2, 1, 3).reshape(out_channels * kernel_size[0], in_channels * kernel_size[1])\n",
    "            U, S, V = torch.svd(W)  # 特異値分解\n",
    "            D = min(rank, min(W.shape))  # ランク\n",
    "            A = U[:, :D] @ torch.sqrt(torch.diag(S[:D]))\n",
    "            B = torch.sqrt(torch.diag(S[:D])) @ V[:, :D].T\n",
    "            ch1 = nn.Conv2d(\n",
    "                in_channels, D, (1, kernel_size[1]), (1, child.stride[1]), (0, child.padding[1]), bias=False\n",
    "            )  # 第一層\n",
    "            ch2 = nn.Conv2d(\n",
    "                D, child.out_channels, (kernel_size[0], 1), (child.stride[0], 1), (child.padding[0], 0), bias=has_bias\n",
    "            )  # 第二層\n",
    "            ch1.weight.data = B.reshape((D, 1, in_channels, kernel_size[1])).permute(\n",
    "                0, 2, 1, 3\n",
    "            )  # 定理より得た重みの設定\n",
    "            ch2.weight.data = A.reshape((out_channels, kernel_size[0], D, 1)).permute(\n",
    "                0, 2, 1, 3\n",
    "            )  # 定理より得た重みの設定\n",
    "            if has_bias:\n",
    "                ch2.bias.data = child.bias\n",
    "            setattr(module, name, nn.Sequential(ch1, ch2))  # 畳み込み層を分解した 2 つの層に置き換える\n",
    "        else:\n",
    "            low_rank_recursively(child, rank)  # 再帰的に探索"
   ]
  },
  {
   "cell_type": "code",
   "execution_count": 4,
   "metadata": {},
   "outputs": [
    {
     "name": "stdout",
     "output_type": "stream",
     "text": [
      "0.8827\n",
      "22.286393880844116\n"
     ]
    }
   ],
   "source": [
    "low_rank_recursively(model, rank=32) # ランク 32 の低ランク近似\n",
    "\n",
    "start = time.time()\n",
    "print(evaluator.eval(model, torch.device(\"cpu\")))\n",
    "# CIFAR-10 精度 88.27 %\n",
    "print(time.time() - start)\n",
    "# Intel Core i7-12700 で 16.0 秒"
   ]
  },
  {
   "cell_type": "code",
   "execution_count": 5,
   "metadata": {},
   "outputs": [],
   "source": [
    "import torch\n",
    "import torch.nn as nn\n",
    "import torch.optim as optim\n",
    "import torchvision\n",
    "import torchvision.transforms as transforms\n",
    "from eval_cifar10 import Eval"
   ]
  },
  {
   "cell_type": "code",
   "execution_count": 6,
   "metadata": {},
   "outputs": [
    {
     "name": "stdout",
     "output_type": "stream",
     "text": [
      "Files already downloaded and verified\n",
      "Files already downloaded and verified\n"
     ]
    }
   ],
   "source": [
    "transform_train = transforms.Compose(\n",
    "    [\n",
    "        transforms.RandomCrop(32, padding=4),\n",
    "        transforms.RandomHorizontalFlip(),\n",
    "        transforms.ToTensor(),\n",
    "        transforms.Normalize((0.4914, 0.4822, 0.4465), (0.2023, 0.1994, 0.2010)),\n",
    "    ]\n",
    ")\n",
    "\n",
    "batch_size = 256\n",
    "trainset = torchvision.datasets.CIFAR10(root=\"./data\", train=True, download=True, transform=transform_train)\n",
    "trainloader = torch.utils.data.DataLoader(trainset, batch_size=batch_size, shuffle=True)\n",
    "\n",
    "device = \"cuda:0\" if torch.cuda.is_available() else \"cpu\"\n",
    "model.to(device)\n",
    "\n",
    "criterion = nn.CrossEntropyLoss()\n",
    "optimizer = optim.SGD(model.parameters(), lr=0.001, momentum=0.9, weight_decay=0.01, nesterov=True)\n",
    "\n",
    "epoch = 10\n",
    "lr_scheduler = torch.optim.lr_scheduler.CosineAnnealingLR(optimizer, T_max=epoch)\n",
    "\n",
    "evaluator = Eval(batch_size=batch_size)"
   ]
  },
  {
   "cell_type": "code",
   "execution_count": 7,
   "metadata": {},
   "outputs": [
    {
     "name": "stdout",
     "output_type": "stream",
     "text": [
      "Epoch 1, Accuracy: 0.9012\n",
      "Epoch 2, Accuracy: 0.912\n",
      "Epoch 3, Accuracy: 0.9101\n",
      "Epoch 4, Accuracy: 0.9101\n",
      "Epoch 5, Accuracy: 0.9101\n",
      "Epoch 6, Accuracy: 0.9168\n",
      "Epoch 7, Accuracy: 0.9203\n",
      "Epoch 8, Accuracy: 0.9224\n",
      "Epoch 9, Accuracy: 0.9248\n",
      "Epoch 10, Accuracy: 0.9247\n"
     ]
    }
   ],
   "source": [
    "for epoch in range(epoch):\n",
    "    model.train()\n",
    "    for data in trainloader:\n",
    "        inputs, labels = data\n",
    "        inputs, labels = inputs.to(device), labels.to(device)\n",
    "\n",
    "        optimizer.zero_grad()\n",
    "\n",
    "        outputs = model(inputs)\n",
    "        loss = criterion(outputs, labels)\n",
    "        loss.backward()\n",
    "        optimizer.step()\n",
    "\n",
    "    lr_scheduler.step()\n",
    "\n",
    "    acc = evaluator.eval(model, device)\n",
    "\n",
    "    print(f\"Epoch {epoch + 1}, Accuracy: {acc}\")\n",
    "\n",
    "# 10 エポックファインチューニング\n",
    "# CIFAR-10 精度 92.49 %"
   ]
  }
 ],
 "metadata": {
  "kernelspec": {
   "display_name": "Python 3 (ipykernel)",
   "language": "python",
   "name": "python3"
  },
  "language_info": {
   "codemirror_mode": {
    "name": "ipython",
    "version": 3
   },
   "file_extension": ".py",
   "mimetype": "text/x-python",
   "name": "python",
   "nbconvert_exporter": "python",
   "pygments_lexer": "ipython3",
   "version": "3.11.9"
  }
 },
 "nbformat": 4,
 "nbformat_minor": 4
}
