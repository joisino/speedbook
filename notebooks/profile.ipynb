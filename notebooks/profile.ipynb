{
 "cells": [
  {
   "cell_type": "code",
   "execution_count": 1,
   "metadata": {},
   "outputs": [],
   "source": [
    "import torch\n",
    "import torchvision\n",
    "from torch.profiler import ProfilerActivity, profile, record_function"
   ]
  },
  {
   "cell_type": "code",
   "execution_count": 2,
   "metadata": {},
   "outputs": [
    {
     "name": "stderr",
     "output_type": "stream",
     "text": [
      "STAGE:2024-08-17 08:44:12 2780035:2780035 ActivityProfilerController.cpp:314] Completed Stage: Warm Up\n",
      "STAGE:2024-08-17 08:44:12 2780035:2780035 ActivityProfilerController.cpp:320] Completed Stage: Collection\n",
      "STAGE:2024-08-17 08:44:12 2780035:2780035 ActivityProfilerController.cpp:324] Completed Stage: Post Processing\n"
     ]
    }
   ],
   "source": [
    "# ResNet50 の準備\n",
    "model = torchvision.models.resnet50()\n",
    "model = model.to(\"cuda\")\n",
    "model.eval()\n",
    "\n",
    "# ダミー画像を用意\n",
    "input_image = torch.ones((128, 3, 224, 224))\n",
    "input_image = input_image.to(\"cuda\")\n",
    "\n",
    "# ウォームアップのため一度走らせる\n",
    "with torch.no_grad():\n",
    "    output = model(input_image)\n",
    "\n",
    "with profile(activities=[ProfilerActivity.CPU, ProfilerActivity.CUDA]) as prof:\n",
    "    with record_function(\"model_inference\"):\n",
    "        model(input_image)"
   ]
  },
  {
   "cell_type": "code",
   "execution_count": 3,
   "metadata": {},
   "outputs": [
    {
     "name": "stdout",
     "output_type": "stream",
     "text": [
      "-------------------------------------------------------  ------------  ------------  ------------  ------------  ------------  ------------  ------------  ------------  ------------  ------------  \n",
      "                                                   Name    Self CPU %      Self CPU   CPU total %     CPU total  CPU time avg     Self CUDA   Self CUDA %    CUDA total  CUDA time avg    # of Calls  \n",
      "-------------------------------------------------------  ------------  ------------  ------------  ------------  ------------  ------------  ------------  ------------  ------------  ------------  \n",
      "                                        model_inference         0.79%       1.627ms         6.67%      13.720ms      13.720ms       0.000us         0.00%     250.701ms     250.701ms             1  \n",
      "                                        model_inference         0.00%       0.000us         0.00%       0.000us       0.000us     204.637ms        50.04%     204.637ms     204.637ms             1  \n",
      "                                      aten::convolution         0.08%     168.000us         3.45%       7.091ms     133.792us       0.000us         0.00%     138.928ms       2.621ms            53  \n",
      "                                aten::cudnn_convolution         1.18%       2.427ms         3.28%       6.756ms     127.472us     111.414ms        27.24%     138.928ms       2.621ms            53  \n",
      "                                           aten::conv2d         0.13%     269.000us         3.47%       7.152ms     134.943us       0.000us         0.00%     134.540ms       2.538ms            53  \n",
      "                                     aten::_convolution         0.08%     167.000us         3.34%       6.875ms     129.717us       0.000us         0.00%     134.203ms       2.532ms            53  \n",
      "                           aten::_batch_norm_impl_index         0.04%      78.000us         1.62%       3.341ms      63.038us       0.000us         0.00%      49.756ms     938.792us            53  \n",
      "                                 aten::cudnn_batch_norm         0.42%     864.000us         1.59%       3.263ms      61.566us      35.658ms         8.72%      49.756ms     938.792us            53  \n",
      "void cutlass::Kernel<cutlass_80_tensorop_s1688gemm_2...         0.00%       0.000us         0.00%       0.000us       0.000us      46.856ms        11.46%      46.856ms       1.673ms            28  \n",
      "                                       aten::batch_norm         0.20%     421.000us         1.64%       3.382ms      63.811us       0.000us         0.00%      45.715ms     862.547us            53  \n",
      "-------------------------------------------------------  ------------  ------------  ------------  ------------  ------------  ------------  ------------  ------------  ------------  ------------  \n",
      "Self CPU time total: 205.830ms\n",
      "Self CUDA time total: 408.934ms\n",
      "\n"
     ]
    }
   ],
   "source": [
    "print(prof.key_averages().table(sort_by=\"cuda_time_total\", row_limit=10))"
   ]
  },
  {
   "cell_type": "code",
   "execution_count": 4,
   "metadata": {},
   "outputs": [],
   "source": [
    "prof.export_chrome_trace(\"trace.json\")"
   ]
  }
 ],
 "metadata": {
  "kernelspec": {
   "display_name": "Python 3 (ipykernel)",
   "language": "python",
   "name": "python3"
  },
  "language_info": {
   "codemirror_mode": {
    "name": "ipython",
    "version": 3
   },
   "file_extension": ".py",
   "mimetype": "text/x-python",
   "name": "python",
   "nbconvert_exporter": "python",
   "pygments_lexer": "ipython3",
   "version": "3.11.9"
  }
 },
 "nbformat": 4,
 "nbformat_minor": 4
}
