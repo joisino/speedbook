{
 "cells": [
  {
   "cell_type": "code",
   "execution_count": 1,
   "metadata": {},
   "outputs": [],
   "source": [
    "import time\n",
    "\n",
    "import torch\n",
    "import torchvision"
   ]
  },
  {
   "cell_type": "code",
   "execution_count": 2,
   "metadata": {},
   "outputs": [
    {
     "name": "stdout",
     "output_type": "stream",
     "text": [
      "0.05667281150817871\n"
     ]
    }
   ],
   "source": [
    "# ResNet50 の準備\n",
    "model = torchvision.models.resnet50()\n",
    "model = model.to(\"cuda\")\n",
    "model.eval()\n",
    "\n",
    "# ダミー画像を用意\n",
    "input_image = torch.ones((32, 3, 224, 224))\n",
    "input_image = input_image.to(\"cuda\")\n",
    "\n",
    "# ウォームアップのため一度走らせる\n",
    "with torch.no_grad():\n",
    "    output = model(input_image)\n",
    "\n",
    "# モデルの計算時間を計測（FP 32）\n",
    "torch.cuda.synchronize()\n",
    "start_time = time.time()\n",
    "with torch.no_grad():\n",
    "    output = model(input_image)\n",
    "torch.cuda.synchronize()\n",
    "end_time = time.time()\n",
    "\n",
    "computation_time = end_time - start_time\n",
    "print(computation_time)\n",
    "# -> RTX 3060 GPU で 0.057 秒"
   ]
  },
  {
   "cell_type": "code",
   "execution_count": 3,
   "metadata": {},
   "outputs": [
    {
     "name": "stderr",
     "output_type": "stream",
     "text": [
      "/home/joisino/.cache/pypoetry/virtualenvs/speedbook-5IKDUY1E-py3.11/lib/python3.11/site-packages/torch/_inductor/compile_fx.py:124: UserWarning: TensorFloat32 tensor cores for float32 matrix multiplication available but not enabled. Consider setting `torch.set_float32_matmul_precision('high')` for better performance.\n",
      "  warnings.warn(\n",
      "W0816 16:14:04.163000 132088678411136 torch/_inductor/utils.py:945] [0/0] not enough SMs to use max_autotune_gemm mode\n",
      "AUTOTUNE addmm(32x1000, 32x2048, 2048x1000)\n",
      "  bias_addmm 0.0686 ms 100.0%\n",
      "  addmm 0.1055 ms 65.0%\n",
      "SingleProcess AUTOTUNE takes 0.2273 seconds\n"
     ]
    },
    {
     "name": "stdout",
     "output_type": "stream",
     "text": [
      "0.04272150993347168\n"
     ]
    }
   ],
   "source": [
    "# モデルを torch.compile に変換\n",
    "model_opt = torch.compile(model, mode=\"max-autotune\")\n",
    "\n",
    "with torch.no_grad():\n",
    "    for i in range(10):\n",
    "        output = model_opt(input_image)\n",
    "\n",
    "# モデルの計算時間を計測（torch.compie）\n",
    "torch.cuda.synchronize()\n",
    "start_time = time.time()\n",
    "with torch.no_grad():\n",
    "    output = model_opt(input_image)\n",
    "torch.cuda.synchronize()\n",
    "end_time = time.time()\n",
    "\n",
    "computation_time = end_time - start_time\n",
    "print(computation_time)\n",
    "# -> RTX 3060 GPU で 0.043 秒"
   ]
  }
 ],
 "metadata": {
  "kernelspec": {
   "display_name": "Python 3 (ipykernel)",
   "language": "python",
   "name": "python3"
  },
  "language_info": {
   "codemirror_mode": {
    "name": "ipython",
    "version": 3
   },
   "file_extension": ".py",
   "mimetype": "text/x-python",
   "name": "python",
   "nbconvert_exporter": "python",
   "pygments_lexer": "ipython3",
   "version": "3.11.9"
  }
 },
 "nbformat": 4,
 "nbformat_minor": 4
}
