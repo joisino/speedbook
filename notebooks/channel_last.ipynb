{
 "cells": [
  {
   "cell_type": "code",
   "execution_count": 1,
   "metadata": {},
   "outputs": [],
   "source": [
    "import time\n",
    "\n",
    "import torch\n",
    "import torchvision"
   ]
  },
  {
   "cell_type": "code",
   "execution_count": 2,
   "metadata": {},
   "outputs": [
    {
     "name": "stdout",
     "output_type": "stream",
     "text": [
      "1.1735119819641113\n"
     ]
    }
   ],
   "source": [
    "# ResNet50 の準備\n",
    "model = torchvision.models.resnet50()\n",
    "model.eval()\n",
    "\n",
    "# ダミー画像を用意\n",
    "input_image = torch.ones((32, 3, 224, 224))\n",
    "\n",
    "# ウォームアップのため一度走らせる\n",
    "with torch.no_grad():\n",
    "    output = model(input_image)\n",
    "\n",
    "# モデルの計算時間を計測（Channel First）\n",
    "start_time = time.time()\n",
    "with torch.no_grad():\n",
    "    output = model(input_image)\n",
    "end_time = time.time()\n",
    "\n",
    "computation_time = end_time - start_time\n",
    "print(computation_time)\n",
    "# -> Intel Core i7-12700 で 1.17 秒"
   ]
  },
  {
   "cell_type": "code",
   "execution_count": 3,
   "metadata": {},
   "outputs": [
    {
     "name": "stdout",
     "output_type": "stream",
     "text": [
      "torch.Size([32, 3, 224, 224])\n",
      "1.0253713130950928\n"
     ]
    }
   ],
   "source": [
    "# チャンネルを最後の次元に変更\n",
    "model = model.to(memory_format=torch.channels_last)\n",
    "input_image = input_image.to(memory_format=torch.channels_last)\n",
    "\n",
    "print(input_image.shape)\n",
    "\n",
    "# ウォームアップのため一度走らせる\n",
    "with torch.no_grad():\n",
    "    output = model(input_image)\n",
    "\n",
    "# モデルの計算時間を計測（Channel Last）\n",
    "start_time = time.time()\n",
    "with torch.no_grad():\n",
    "    output = model(input_image)\n",
    "torch.cuda.synchronize()\n",
    "end_time = time.time()\n",
    "\n",
    "computation_time = end_time - start_time\n",
    "print(computation_time)\n",
    "# -> Intel Core i7-12700 で 1.01 秒"
   ]
  }
 ],
 "metadata": {
  "kernelspec": {
   "display_name": "Python 3 (ipykernel)",
   "language": "python",
   "name": "python3"
  },
  "language_info": {
   "codemirror_mode": {
    "name": "ipython",
    "version": 3
   },
   "file_extension": ".py",
   "mimetype": "text/x-python",
   "name": "python",
   "nbconvert_exporter": "python",
   "pygments_lexer": "ipython3",
   "version": "3.11.9"
  }
 },
 "nbformat": 4,
 "nbformat_minor": 4
}
